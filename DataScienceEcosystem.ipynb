{
 "cells": [
  {
   "cell_type": "markdown",
   "id": "903f640f",
   "metadata": {},
   "source": [
    "# Data Science Tools and Ecosystem"
   ]
  },
  {
   "cell_type": "markdown",
   "id": "d21d7f2d",
   "metadata": {},
   "source": [
    "## Author"
   ]
  },
  {
   "cell_type": "markdown",
   "id": "493687b9",
   "metadata": {},
   "source": [
    "Jinna Harshith Reddy"
   ]
  },
  {
   "cell_type": "markdown",
   "id": "255e42eb",
   "metadata": {},
   "source": [
    "## In this notebook, Data Science Tools and Ecosystem are summarized.\n"
   ]
  },
  {
   "cell_type": "markdown",
   "id": "831ea6d4",
   "metadata": {},
   "source": [
    "**Objectives:**"
   ]
  },
  {
   "cell_type": "markdown",
   "id": "c45ef02e",
   "metadata": {},
   "source": [
    "- List popular languages for Data Science\n",
    "- Item 2\n",
    "- Item 3\n"
   ]
  },
  {
   "cell_type": "markdown",
   "id": "9c8fbd97",
   "metadata": {},
   "source": [
    "Some of the popular languages that Data Scientists use are:\n"
   ]
  },
  {
   "cell_type": "markdown",
   "id": "6c56e76a",
   "metadata": {},
   "source": [
    "1. Python\n",
    "2. SQL\n",
    "3. Java"
   ]
  },
  {
   "cell_type": "markdown",
   "id": "d05f28e1",
   "metadata": {},
   "source": [
    "Some of the commonly used libraries used by Data Scientists include:\n"
   ]
  },
  {
   "cell_type": "markdown",
   "id": "1edbfcbd",
   "metadata": {},
   "source": [
    "1. Numpy\n",
    "2. Sci-kit\n",
    "3. Tensorflow"
   ]
  },
  {
   "cell_type": "markdown",
   "id": "52cacbc8",
   "metadata": {},
   "source": [
    "Data Science Tools"
   ]
  },
  {
   "cell_type": "markdown",
   "id": "1d11d299",
   "metadata": {},
   "source": [
    "| Data Science Tools| \n",
    "|----------|\n",
    "| Jupyter Notebooks  |\n",
    "| RStudio |\n",
    "| Spyder|\n"
   ]
  },
  {
   "cell_type": "markdown",
   "id": "95400ded",
   "metadata": {},
   "source": [
    "Below are a few examples of evaluating arithmetic expressions in Python."
   ]
  },
  {
   "cell_type": "markdown",
   "id": "cea43990",
   "metadata": {},
   "source": [
    "**This a simple arithmetic expression to mutiply then add integers**"
   ]
  },
  {
   "cell_type": "code",
   "execution_count": 11,
   "id": "6ff648d7",
   "metadata": {},
   "outputs": [
    {
     "data": {
      "text/plain": [
       "17"
      ]
     },
     "execution_count": 11,
     "metadata": {},
     "output_type": "execute_result"
    }
   ],
   "source": [
    "(3*4)+5"
   ]
  },
  {
   "cell_type": "markdown",
   "id": "96a17413",
   "metadata": {},
   "source": [
    "**This will convert 200 minutes to hours by diving by 60**"
   ]
  },
  {
   "cell_type": "code",
   "execution_count": 14,
   "id": "205f9f0a",
   "metadata": {},
   "outputs": [
    {
     "name": "stdout",
     "output_type": "stream",
     "text": [
      "3.3333333333333335\n"
     ]
    }
   ],
   "source": [
    "time = 200 \n",
    "hours = time/60\n",
    "print (hours)"
   ]
  }
 ],
 "metadata": {
  "kernelspec": {
   "display_name": "Python 3 (ipykernel)",
   "language": "python",
   "name": "python3"
  },
  "language_info": {
   "codemirror_mode": {
    "name": "ipython",
    "version": 3
   },
   "file_extension": ".py",
   "mimetype": "text/x-python",
   "name": "python",
   "nbconvert_exporter": "python",
   "pygments_lexer": "ipython3",
   "version": "3.11.5"
  }
 },
 "nbformat": 4,
 "nbformat_minor": 5
}
